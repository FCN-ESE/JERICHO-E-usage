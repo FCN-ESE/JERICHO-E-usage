{
 "cells": [
  {
   "cell_type": "markdown",
   "metadata": {},
   "source": [
    "<h1 align=\"center\">JERICHO-E-usage data package</h1>"
   ]
  },
  {
   "cell_type": "markdown",
   "metadata": {},
   "source": [
    "# Instructions"
   ]
  },
  {
   "cell_type": "markdown",
   "metadata": {},
   "source": [
    "### Installation"
   ]
  },
  {
   "cell_type": "markdown",
   "metadata": {},
   "source": [
    "The most convenient way to use this notebook is to use a conda environment: \n",
    "<ol>\n",
    "    <li>Install conda: https://docs.conda.io/projects/conda/en/latest/user-guide/install/</li>\n",
    "    <li>Download the Git repository</li>\n",
    "    <li>Create the environment using the environment.yml file provided in the Git reposity by executing the following command in the Git repository:\n",
    "        <ul>\n",
    "        <li><code>conda env create -f environment.yml</code></li>\n",
    "        </ul>\n",
    "    </li>\n",
    "    <li>Activate the environment by executing the following command:\n",
    "        <ul>\n",
    "        <li><code>conda activate JERICHO-E-usage</code></li>\n",
    "        </ul>\n",
    "    </li>\n",
    "    <li>Start Jupyter Notebook by executing the following command in the Git repository\n",
    "        <ul>\n",
    "        <li><code>jupyter notebook</code></li>\n",
    "        </ul>\n",
    "    </li>\n",
    "</ol> "
   ]
  },
  {
   "cell_type": "markdown",
   "metadata": {},
   "source": [
    "### Output data"
   ]
  },
  {
   "cell_type": "markdown",
   "metadata": {},
   "source": [
    "The compiled data is stored in the directory <i>Final Data</i>"
   ]
  },
  {
   "cell_type": "markdown",
   "metadata": {},
   "source": [
    "# Compile data"
   ]
  },
  {
   "cell_type": "markdown",
   "metadata": {},
   "source": [
    "### Import scripts"
   ]
  },
  {
   "cell_type": "code",
   "execution_count": null,
   "metadata": {},
   "outputs": [],
   "source": [
    "import src.commerce_calculate_useful_energy_ts as commerce\n",
    "import src.industry_calculate_useful_energy_ts as industry\n",
    "import src.mobility_calculate_useful_energy_ts as mobility\n",
    "import src.residential_calculate_useful_energy_ts as residential"
   ]
  },
  {
   "cell_type": "markdown",
   "metadata": {},
   "source": [
    "### Commercial sector"
   ]
  },
  {
   "cell_type": "markdown",
   "metadata": {},
   "source": [
    "By executing the following function, the time series for the commercial sector are complied."
   ]
  },
  {
   "cell_type": "code",
   "execution_count": null,
   "metadata": {},
   "outputs": [],
   "source": [
    "commerce.calculate_ts()"
   ]
  },
  {
   "cell_type": "markdown",
   "metadata": {},
   "source": [
    "### Industry sector"
   ]
  },
  {
   "cell_type": "markdown",
   "metadata": {},
   "source": [
    "By executing the following function, the time series for the industry sector are complied."
   ]
  },
  {
   "cell_type": "code",
   "execution_count": null,
   "metadata": {},
   "outputs": [],
   "source": [
    "industry.calculate_ts()"
   ]
  },
  {
   "cell_type": "markdown",
   "metadata": {},
   "source": [
    "### Mobility sector"
   ]
  },
  {
   "cell_type": "markdown",
   "metadata": {},
   "source": [
    "By executing the following function, the time series for the mobility sector are complied."
   ]
  },
  {
   "cell_type": "markdown",
   "metadata": {},
   "source": [
    "Data on specific annual fuel consumption is required to scale the mobility profiles. The following data is taken from:\n",
    "\n",
    "<cite>AG Energiebilanzen e.V. (AGEB), 2020. Energy Balance for the Federal Republic of Germany 2018. Berlin, Germany.</cite>"
   ]
  },
  {
   "cell_type": "code",
   "execution_count": null,
   "metadata": {},
   "outputs": [],
   "source": [
    "benchmark_values_twh = {\n",
    "    'diesel': 382.5289,\n",
    "    'gasoline': 203.1603,\n",
    "    'gas': 5.9308,\n",
    "    'electricity': 0.2289,\n",
    "    'biomass': 31.3239\n",
    "}"
   ]
  },
  {
   "cell_type": "markdown",
   "metadata": {},
   "source": [
    "Data on shares of biomass for diesel and gasoline liquid fuels are required to scale the mobility profiles. The following data is taken from:\n",
    "\n",
    "<cite>Umweltbundesamt (Federal Environment Agency), 2020. Zeitreihen zur Entwicklung\tder erneuerbaren Energien in Deutschland (Time series on the development of renewable energies in Germany). Bundesministerium für Wirtschaft und Energie (Federal Ministry for Economic Affairs and Energy ), Dessau-Roßlau, Germany.</cite>"
   ]
  },
  {
   "cell_type": "code",
   "execution_count": null,
   "metadata": {},
   "outputs": [],
   "source": [
    "bio_fuel_shares = {\n",
    "    'diesel': 0.0584,             \n",
    "    'gasoline': 0.0429\n",
    "}"
   ]
  },
  {
   "cell_type": "markdown",
   "metadata": {},
   "source": [
    "In the first step, pregenerated service profiles for each NUTS2 region are reshaped."
   ]
  },
  {
   "cell_type": "code",
   "execution_count": null,
   "metadata": {},
   "outputs": [],
   "source": [
    "mobility.transform_data()"
   ]
  },
  {
   "cell_type": "markdown",
   "metadata": {},
   "source": [
    "In the second step,the service profiles are scaled to match reported final energy demand."
   ]
  },
  {
   "cell_type": "code",
   "execution_count": null,
   "metadata": {},
   "outputs": [],
   "source": [
    "mobility.validate_and_scale_ts(bio_fuel_shares, benchmark_values_twh)"
   ]
  },
  {
   "cell_type": "markdown",
   "metadata": {},
   "source": [
    "### Residential sector"
   ]
  },
  {
   "cell_type": "markdown",
   "metadata": {},
   "source": [
    "By executing the following function, the time series for the residential sector are complied."
   ]
  },
  {
   "cell_type": "markdown",
   "metadata": {},
   "source": [
    "In the first step, intermediate useful energy time series are calculated for space heat, hot water, and unspecified applications. \n",
    "\n",
    "<b>This step can take several hours.</b>"
   ]
  },
  {
   "cell_type": "code",
   "execution_count": null,
   "metadata": {},
   "outputs": [],
   "source": [
    "residential.calculate_intermediate_ts()"
   ]
  },
  {
   "cell_type": "markdown",
   "metadata": {},
   "source": [
    "In the second step, the unspecified demand time series is split into Process Heat-Direct, Space Cooling, Process Cooling, Mechanical, Information, Light."
   ]
  },
  {
   "cell_type": "code",
   "execution_count": null,
   "metadata": {},
   "outputs": [],
   "source": [
    "residential.split_demand_ts()"
   ]
  },
  {
   "cell_type": "markdown",
   "metadata": {},
   "source": [
    "In the third step, the time series are scaled to match the reported annual final energy demand."
   ]
  },
  {
   "cell_type": "code",
   "execution_count": null,
   "metadata": {},
   "outputs": [],
   "source": [
    "residential.scale_ts()"
   ]
  }
 ],
 "metadata": {
  "kernelspec": {
   "display_name": "Python 3",
   "language": "python",
   "name": "python3"
  },
  "language_info": {
   "codemirror_mode": {
    "name": "ipython",
    "version": 3
   },
   "file_extension": ".py",
   "mimetype": "text/x-python",
   "name": "python",
   "nbconvert_exporter": "python",
   "pygments_lexer": "ipython3",
   "version": "3.7.7"
  }
 },
 "nbformat": 4,
 "nbformat_minor": 4
}
